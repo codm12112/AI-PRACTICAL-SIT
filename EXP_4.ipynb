{
  "nbformat": 4,
  "nbformat_minor": 0,
  "metadata": {
    "colab": {
      "provenance": [],
      "authorship_tag": "ABX9TyMLKKT644QdMvPsY5+7Yw9q",
      "include_colab_link": true
    },
    "kernelspec": {
      "name": "python3",
      "display_name": "Python 3"
    },
    "language_info": {
      "name": "python"
    }
  },
  "cells": [
    {
      "cell_type": "markdown",
      "metadata": {
        "id": "view-in-github",
        "colab_type": "text"
      },
      "source": [
        "<a href=\"https://colab.research.google.com/github/codm12112/AI-PRACTICAL-SIT/blob/main/EXP_4.ipynb\" target=\"_parent\"><img src=\"https://colab.research.google.com/assets/colab-badge.svg\" alt=\"Open In Colab\"/></a>"
      ]
    },
    {
      "cell_type": "markdown",
      "source": [
        "\n",
        "NAME:- PREET T PATEL SEC:-C PRN:-22070521088 EXP:-4"
      ],
      "metadata": {
        "id": "Vq-GXA-cETxt"
      }
    },
    {
      "cell_type": "code",
      "execution_count": 1,
      "metadata": {
        "colab": {
          "base_uri": "https://localhost:8080/"
        },
        "id": "-FlVFYDJEAJx",
        "outputId": "e5a2a5c8-2479-4ec2-d82c-bd20a99ff3c9"
      },
      "outputs": [
        {
          "output_type": "stream",
          "name": "stderr",
          "text": [
            "[nltk_data] Downloading package punkt to /root/nltk_data...\n",
            "[nltk_data]   Unzipping tokenizers/punkt.zip.\n",
            "[nltk_data] Downloading package stopwords to /root/nltk_data...\n",
            "[nltk_data]   Unzipping corpora/stopwords.zip.\n",
            "[nltk_data] Downloading package wordnet to /root/nltk_data...\n",
            "[nltk_data] Downloading package punkt_tab to /root/nltk_data...\n",
            "[nltk_data]   Unzipping tokenizers/punkt_tab.zip.\n"
          ]
        },
        {
          "output_type": "stream",
          "name": "stdout",
          "text": [
            "Original Text: Natural Language Processing (NLP) is a field of artificial intelligence that focuses on the interaction between computers and human language.\n",
            "\n",
            "Tokenized Words: ['Natural', 'Language', 'Processing', '(', 'NLP', ')', 'is', 'a', 'field', 'of', 'artificial', 'intelligence', 'that', 'focuses', 'on', 'the', 'interaction', 'between', 'computers', 'and', 'human', 'language', '.']\n",
            "\n",
            "Tokenized Sentences: ['Natural Language Processing (NLP) is a field of artificial intelligence that focuses on the interaction between computers and human language.']\n",
            "\n",
            "Filtered Words (Stopword Removal): ['Natural', 'Language', 'Processing', '(', 'NLP', ')', 'field', 'artificial', 'intelligence', 'focuses', 'interaction', 'computers', 'human', 'language', '.']\n",
            "\n",
            "Stemmed Words: ['natur', 'languag', 'process', '(', 'nlp', ')', 'field', 'artifici', 'intellig', 'focus', 'interact', 'comput', 'human', 'languag', '.']\n",
            "\n",
            "Lemmatized Words: ['Natural', 'Language', 'Processing', '(', 'NLP', ')', 'field', 'artificial', 'intelligence', 'focus', 'interaction', 'computer', 'human', 'language', '.']\n"
          ]
        }
      ],
      "source": [
        "# 3. Sample Dataset\n",
        "sample_text = \"Natural Language Processing (NLP) is a field of artificial intelligence that focuses on the interaction between computers and human language.\"\n",
        "\n",
        "# Importing Libraries\n",
        "import nltk\n",
        "from nltk.tokenize import word_tokenize, sent_tokenize\n",
        "from nltk.corpus import stopwords\n",
        "from nltk.stem import PorterStemmer, WordNetLemmatizer\n",
        "\n",
        "# Download required datasets\n",
        "nltk.download('punkt')\n",
        "nltk.download('stopwords')\n",
        "nltk.download('wordnet')\n",
        "nltk.download('punkt_tab')\n",
        "\n",
        "# Tokenization\n",
        "words = word_tokenize(sample_text)\n",
        "sentences = sent_tokenize(sample_text)\n",
        "\n",
        "# Stopword Removal\n",
        "stop_words = set(stopwords.words('english'))\n",
        "filtered_words = [word for word in words if word.lower() not in stop_words]\n",
        "\n",
        "# Stemming\n",
        "stemmer = PorterStemmer()\n",
        "stemmed_words = [stemmer.stem(word) for word in filtered_words]\n",
        "\n",
        "# Lemmatization\n",
        "lemmatizer = WordNetLemmatizer()\n",
        "lemmatized_words = [lemmatizer.lemmatize(word) for word in filtered_words]\n",
        "\n",
        "# Output Results\n",
        "print(\"Original Text:\", sample_text)\n",
        "print(\"\\nTokenized Words:\", words)\n",
        "print(\"\\nTokenized Sentences:\", sentences)\n",
        "print(\"\\nFiltered Words (Stopword Removal):\", filtered_words)\n",
        "print(\"\\nStemmed Words:\", stemmed_words)\n",
        "print(\"\\nLemmatized Words:\", lemmatized_words)"
      ]
    }
  ]
}