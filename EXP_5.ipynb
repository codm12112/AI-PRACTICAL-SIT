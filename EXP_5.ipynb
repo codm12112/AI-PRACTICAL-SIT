{
  "nbformat": 4,
  "nbformat_minor": 0,
  "metadata": {
    "colab": {
      "provenance": [],
      "authorship_tag": "ABX9TyNBCipGJ9Jgf2TRTeyf4/Wc",
      "include_colab_link": true
    },
    "kernelspec": {
      "name": "python3",
      "display_name": "Python 3"
    },
    "language_info": {
      "name": "python"
    }
  },
  "cells": [
    {
      "cell_type": "markdown",
      "metadata": {
        "id": "view-in-github",
        "colab_type": "text"
      },
      "source": [
        "<a href=\"https://colab.research.google.com/github/codm12112/AI-PRACTICAL-SIT/blob/main/EXP_5.ipynb\" target=\"_parent\"><img src=\"https://colab.research.google.com/assets/colab-badge.svg\" alt=\"Open In Colab\"/></a>"
      ]
    },
    {
      "cell_type": "markdown",
      "source": [
        "NAME:- PREET T PATEL\n",
        "SEC:-C\n",
        "PRN:-22070521088\n",
        "EXP:-5"
      ],
      "metadata": {
        "id": "o7KaKz2ZDdTs"
      }
    },
    {
      "cell_type": "code",
      "execution_count": 2,
      "metadata": {
        "colab": {
          "base_uri": "https://localhost:8080/"
        },
        "id": "IMu0QHrIDKES",
        "outputId": "c8786182-c92f-4466-a060-a6a0d28efb2b"
      },
      "outputs": [
        {
          "output_type": "stream",
          "name": "stderr",
          "text": [
            "[nltk_data] Downloading package punkt to /root/nltk_data...\n",
            "[nltk_data]   Unzipping tokenizers/punkt.zip.\n",
            "[nltk_data] Downloading package stopwords to /root/nltk_data...\n",
            "[nltk_data]   Unzipping corpora/stopwords.zip.\n",
            "[nltk_data] Downloading package wordnet to /root/nltk_data...\n",
            "[nltk_data] Downloading package punkt_tab to /root/nltk_data...\n",
            "[nltk_data]   Unzipping tokenizers/punkt_tab.zip.\n"
          ]
        },
        {
          "output_type": "stream",
          "name": "stdout",
          "text": [
            "Original Text: Natural Language Processing (NLP) is a field of artificial intelligence that focuses on the interaction between computers and human language. It enables machines to understand, interpret, and generate text in a way that is both meaningful and contextually appropriate. NLP techniques are widely used in applications such as chatbots, speech recognition, sentiment analysis, and machine translation. The process involves various steps, including tokenization, stopword removal, stemming, and lemmatization, which help break down and analyze text more effectively. Advances in deep learning and neural networks have significantly improved NLP models, making them more accurate and capable of handling complex linguistic structures. From customer support automation to content recommendation systems, NLP plays a crucial role in enhancing human-computer interaction and streamlining various business processes. As technology evolves, the potential of NLP continues to expand, driving innovation in fields like healthcare, finance, and education.\n",
            "\n",
            "Tokenized Words: ['Natural', 'Language', 'Processing', '(', 'NLP', ')', 'is', 'a', 'field', 'of', 'artificial', 'intelligence', 'that', 'focuses', 'on', 'the', 'interaction', 'between', 'computers', 'and', 'human', 'language', '.', 'It', 'enables', 'machines', 'to', 'understand', ',', 'interpret', ',', 'and', 'generate', 'text', 'in', 'a', 'way', 'that', 'is', 'both', 'meaningful', 'and', 'contextually', 'appropriate', '.', 'NLP', 'techniques', 'are', 'widely', 'used', 'in', 'applications', 'such', 'as', 'chatbots', ',', 'speech', 'recognition', ',', 'sentiment', 'analysis', ',', 'and', 'machine', 'translation', '.', 'The', 'process', 'involves', 'various', 'steps', ',', 'including', 'tokenization', ',', 'stopword', 'removal', ',', 'stemming', ',', 'and', 'lemmatization', ',', 'which', 'help', 'break', 'down', 'and', 'analyze', 'text', 'more', 'effectively', '.', 'Advances', 'in', 'deep', 'learning', 'and', 'neural', 'networks', 'have', 'significantly', 'improved', 'NLP', 'models', ',', 'making', 'them', 'more', 'accurate', 'and', 'capable', 'of', 'handling', 'complex', 'linguistic', 'structures', '.', 'From', 'customer', 'support', 'automation', 'to', 'content', 'recommendation', 'systems', ',', 'NLP', 'plays', 'a', 'crucial', 'role', 'in', 'enhancing', 'human-computer', 'interaction', 'and', 'streamlining', 'various', 'business', 'processes', '.', 'As', 'technology', 'evolves', ',', 'the', 'potential', 'of', 'NLP', 'continues', 'to', 'expand', ',', 'driving', 'innovation', 'in', 'fields', 'like', 'healthcare', ',', 'finance', ',', 'and', 'education', '.']\n",
            "\n",
            "Tokenized Sentences: ['Natural Language Processing (NLP) is a field of artificial intelligence that focuses on the interaction between computers and human language.', 'It enables machines to understand, interpret, and generate text in a way that is both meaningful and contextually appropriate.', 'NLP techniques are widely used in applications such as chatbots, speech recognition, sentiment analysis, and machine translation.', 'The process involves various steps, including tokenization, stopword removal, stemming, and lemmatization, which help break down and analyze text more effectively.', 'Advances in deep learning and neural networks have significantly improved NLP models, making them more accurate and capable of handling complex linguistic structures.', 'From customer support automation to content recommendation systems, NLP plays a crucial role in enhancing human-computer interaction and streamlining various business processes.', 'As technology evolves, the potential of NLP continues to expand, driving innovation in fields like healthcare, finance, and education.']\n",
            "\n",
            "Filtered Words (Stopword Removal): ['Natural', 'Language', 'Processing', '(', 'NLP', ')', 'field', 'artificial', 'intelligence', 'focuses', 'interaction', 'computers', 'human', 'language', '.', 'enables', 'machines', 'understand', ',', 'interpret', ',', 'generate', 'text', 'way', 'meaningful', 'contextually', 'appropriate', '.', 'NLP', 'techniques', 'widely', 'used', 'applications', 'chatbots', ',', 'speech', 'recognition', ',', 'sentiment', 'analysis', ',', 'machine', 'translation', '.', 'process', 'involves', 'various', 'steps', ',', 'including', 'tokenization', ',', 'stopword', 'removal', ',', 'stemming', ',', 'lemmatization', ',', 'help', 'break', 'analyze', 'text', 'effectively', '.', 'Advances', 'deep', 'learning', 'neural', 'networks', 'significantly', 'improved', 'NLP', 'models', ',', 'making', 'accurate', 'capable', 'handling', 'complex', 'linguistic', 'structures', '.', 'customer', 'support', 'automation', 'content', 'recommendation', 'systems', ',', 'NLP', 'plays', 'crucial', 'role', 'enhancing', 'human-computer', 'interaction', 'streamlining', 'various', 'business', 'processes', '.', 'technology', 'evolves', ',', 'potential', 'NLP', 'continues', 'expand', ',', 'driving', 'innovation', 'fields', 'like', 'healthcare', ',', 'finance', ',', 'education', '.']\n",
            "\n",
            "Stemmed Words: ['natur', 'languag', 'process', '(', 'nlp', ')', 'field', 'artifici', 'intellig', 'focus', 'interact', 'comput', 'human', 'languag', '.', 'enabl', 'machin', 'understand', ',', 'interpret', ',', 'gener', 'text', 'way', 'meaning', 'contextu', 'appropri', '.', 'nlp', 'techniqu', 'wide', 'use', 'applic', 'chatbot', ',', 'speech', 'recognit', ',', 'sentiment', 'analysi', ',', 'machin', 'translat', '.', 'process', 'involv', 'variou', 'step', ',', 'includ', 'token', ',', 'stopword', 'remov', ',', 'stem', ',', 'lemmat', ',', 'help', 'break', 'analyz', 'text', 'effect', '.', 'advanc', 'deep', 'learn', 'neural', 'network', 'significantli', 'improv', 'nlp', 'model', ',', 'make', 'accur', 'capabl', 'handl', 'complex', 'linguist', 'structur', '.', 'custom', 'support', 'autom', 'content', 'recommend', 'system', ',', 'nlp', 'play', 'crucial', 'role', 'enhanc', 'human-comput', 'interact', 'streamlin', 'variou', 'busi', 'process', '.', 'technolog', 'evolv', ',', 'potenti', 'nlp', 'continu', 'expand', ',', 'drive', 'innov', 'field', 'like', 'healthcar', ',', 'financ', ',', 'educ', '.']\n",
            "\n",
            "Lemmatized Words: ['Natural', 'Language', 'Processing', '(', 'NLP', ')', 'field', 'artificial', 'intelligence', 'focus', 'interaction', 'computer', 'human', 'language', '.', 'enables', 'machine', 'understand', ',', 'interpret', ',', 'generate', 'text', 'way', 'meaningful', 'contextually', 'appropriate', '.', 'NLP', 'technique', 'widely', 'used', 'application', 'chatbots', ',', 'speech', 'recognition', ',', 'sentiment', 'analysis', ',', 'machine', 'translation', '.', 'process', 'involves', 'various', 'step', ',', 'including', 'tokenization', ',', 'stopword', 'removal', ',', 'stemming', ',', 'lemmatization', ',', 'help', 'break', 'analyze', 'text', 'effectively', '.', 'Advances', 'deep', 'learning', 'neural', 'network', 'significantly', 'improved', 'NLP', 'model', ',', 'making', 'accurate', 'capable', 'handling', 'complex', 'linguistic', 'structure', '.', 'customer', 'support', 'automation', 'content', 'recommendation', 'system', ',', 'NLP', 'play', 'crucial', 'role', 'enhancing', 'human-computer', 'interaction', 'streamlining', 'various', 'business', 'process', '.', 'technology', 'evolves', ',', 'potential', 'NLP', 'continues', 'expand', ',', 'driving', 'innovation', 'field', 'like', 'healthcare', ',', 'finance', ',', 'education', '.']\n"
          ]
        }
      ],
      "source": [
        "sample_text = \"Natural Language Processing (NLP) is a field of artificial intelligence that focuses on the interaction between computers and human language. It enables machines to understand, interpret, and generate text in a way that is both meaningful and contextually appropriate. NLP techniques are widely used in applications such as chatbots, speech recognition, sentiment analysis, and machine translation. The process involves various steps, including tokenization, stopword removal, stemming, and lemmatization, which help break down and analyze text more effectively. Advances in deep learning and neural networks have significantly improved NLP models, making them more accurate and capable of handling complex linguistic structures. From customer support automation to content recommendation systems, NLP plays a crucial role in enhancing human-computer interaction and streamlining various business processes. As technology evolves, the potential of NLP continues to expand, driving innovation in fields like healthcare, finance, and education.\"\n",
        "\n",
        "# Importing Libraries\n",
        "import nltk\n",
        "from nltk.tokenize import word_tokenize, sent_tokenize\n",
        "from nltk.corpus import stopwords\n",
        "from nltk.stem import PorterStemmer, WordNetLemmatizer\n",
        "\n",
        "# Download required datasets\n",
        "nltk.download('punkt')\n",
        "nltk.download('stopwords')\n",
        "nltk.download('wordnet')\n",
        "nltk.download('punkt_tab')\n",
        "\n",
        "# Tokenization\n",
        "words = word_tokenize(sample_text)\n",
        "sentences = sent_tokenize(sample_text)\n",
        "\n",
        "# Stopword Removal\n",
        "stop_words = set(stopwords.words('english'))\n",
        "filtered_words = [word for word in words if word.lower() not in stop_words]\n",
        "\n",
        "# Stemming\n",
        "stemmer = PorterStemmer()\n",
        "stemmed_words = [stemmer.stem(word) for word in filtered_words]\n",
        "\n",
        "# Lemmatization\n",
        "lemmatizer = WordNetLemmatizer()\n",
        "lemmatized_words = [lemmatizer.lemmatize(word) for word in filtered_words]\n",
        "\n",
        "# Output Results\n",
        "print(\"Original Text:\", sample_text)\n",
        "print(\"\\nTokenized Words:\", words)\n",
        "print(\"\\nTokenized Sentences:\", sentences)\n",
        "print(\"\\nFiltered Words (Stopword Removal):\", filtered_words)\n",
        "print(\"\\nStemmed Words:\", stemmed_words)\n",
        "print(\"\\nLemmatized Words:\", lemmatized_words)"
      ]
    },
    {
      "cell_type": "code",
      "source": [],
      "metadata": {
        "id": "aQSxfUlDD7X0"
      },
      "execution_count": null,
      "outputs": []
    }
  ]
}